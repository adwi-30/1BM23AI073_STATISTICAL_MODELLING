{
 "cells": [
  {
   "cell_type": "code",
   "execution_count": 98,
   "id": "dae5b6c0",
   "metadata": {},
   "outputs": [
    {
     "name": "stdout",
     "output_type": "stream",
     "text": [
      "\n",
      "Gradient Descent Results:\n",
      "Intercept (theta_0): 2119.8323\n",
      "Slope (theta_1): 18.4976\n"
     ]
    }
   ],
   "source": [
    "# Gradient Descent\n",
    "import numpy as np\n",
    "\n",
    "def gradient_descent(X, y, initial_learning_rate=0.01, decay_rate=0.01, n_iterations=1000):\n",
    "    m = len(y)\n",
    "    theta = np.random.randn(2)\n",
    "    for i in range(n_iterations):\n",
    "        learning_rate = initial_learning_rate / (1 + decay_rate * i)\n",
    "        gradients = (2 / m) * X.T.dot(X.dot(theta) - y)\n",
    "        theta -= learning_rate * gradients\n",
    "        \n",
    "        error = np.mean((X.dot(theta) - y) ** 2)\n",
    "        if error < 0.001:\n",
    "            print(f\"Converged at iteration {i}\")\n",
    "            break\n",
    "    return theta\n",
    "\n",
    "data = {\n",
    "    \"shear\": [2160.70, 1680.15, 2318.00, 2063.30, 2209.30, 2209.50, 1710.30, 1786.70,\n",
    "              2577.90, 2359.90, 2258.70, 2167.20, 2401.55, 1781.80, 2338.75, 1767.30,\n",
    "              2055.50, 2416.40, 2202.50, 2656.20, 1755.70],\n",
    "    \"age\": [15.50, 23.75, 8.00, 17.00, 5.50, 19.00, 24.00, 2.50, 7.50, 11.00, 13.00,\n",
    "            3.75, 25.00, 9.75, 22.00, 18.00, 6.00, 12.50, 2.00, 21.50, 0.00]\n",
    "}\n",
    "X = np.array(data[\"age\"])\n",
    "y = np.array(data[\"shear\"])\n",
    "X_norm = (X - X.mean()) / X.std()\n",
    "X_b = np.c_[np.ones(len(X_norm)), X_norm]\n",
    "theta_gd = gradient_descent(X_b, y)\n",
    "\n",
    "print(\"\\nGradient Descent Results:\")\n",
    "print(f\"Intercept (theta_0): {theta_gd[0]:.4f}\")\n",
    "print(f\"Slope (theta_1): {theta_gd[1]:.4f}\")\n"
   ]
  },
  {
   "cell_type": "code",
   "execution_count": 104,
   "id": "fd95d5d8",
   "metadata": {},
   "outputs": [
    {
     "name": "stdout",
     "output_type": "stream",
     "text": [
      "\n",
      "Stochastic Gradient Descent:\n",
      "Intercept: 2112.2659, Slope: -10.2290\n",
      "Predictions:  [ 954.83535456  975.67847293  996.5215913  1017.36470967 1038.20782804\n",
      " 1059.05094641 1079.89406478 1100.73718315 1121.58030152 1142.42341989\n",
      " 1163.26653826 1184.10965663 1204.952775   1225.79589337 1246.63901174\n",
      " 1267.48213011 1288.32524848 1309.16836685 1330.01148522 1350.85460359\n",
      " 1371.69772196 1392.54084033 1413.3839587  1434.22707707 1455.07019544\n",
      " 1475.91331381 1496.75643218 1517.59955055 1538.44266892 1559.28578729\n",
      " 1580.12890566 1600.97202403 1621.8151424  1642.65826077 1663.50137914\n",
      " 1684.34449751 1705.18761588 1726.03073425 1746.87385262 1767.71697099\n",
      " 1788.56008936 1809.40320773 1830.2463261  1851.08944447 1871.93256284\n",
      " 1892.77568121 1913.61879958 1934.46191795 1955.30503632 1976.14815469\n",
      " 1996.99127306 2017.83439143 2038.6775098  2059.52062817 2080.36374654\n",
      " 2101.20686491 2122.04998328 2142.89310165 2163.73622002 2184.57933839\n",
      " 2205.42245676 2226.26557513 2247.1086935  2267.95181187 2288.79493024\n",
      " 2309.63804861 2330.48116698 2351.32428535 2372.16740372 2393.01052209\n",
      " 2413.85364046 2434.69675883 2455.5398772  2476.38299557 2497.22611394\n",
      " 2518.06923231 2538.91235068 2559.75546905 2580.59858742 2601.44170579\n",
      " 2622.28482416 2643.12794253 2663.9710609  2684.81417927 2705.65729765\n",
      " 2726.50041602 2747.34353439 2768.18665276 2789.02977113 2809.8728895\n",
      " 2830.71600787 2851.55912624 2872.40224461 2893.24536298 2914.08848135\n",
      " 2934.93159972 2955.77471809 2976.61783646 2997.46095483 3018.3040732 ]\n"
     ]
    }
   ],
   "source": [
    "import numpy as np\n",
    "import pandas as pd\n",
    "import statsmodels.api as sm\n",
    "from sklearn.linear_model import SGDRegressor\n",
    "from sklearn.model_selection import train_test_split\n",
    "\n",
    "data = {\n",
    "    \"shear\": [2160.70, 1680.15, 2318.00, 2063.30, 2209.30, 2209.50, 1710.30, 1786.70,\n",
    "              2577.90, 2359.90, 2258.70, 2167.20, 2401.55, 1781.80, 2338.75, 1767.30,\n",
    "              2055.50, 2416.40, 2202.50, 2656.20, 1755.70],\n",
    "    \"age\": [15.50, 23.75, 8.00, 17.00, 5.50, 19.00, 24.00, 2.50, 7.50, 11.00, 13.00,\n",
    "            3.75, 25.00, 9.75, 22.00, 18.00, 6.00, 12.50, 2.00, 21.50, 0.00]\n",
    "}\n",
    "\n",
    "df = pd.DataFrame(data)\n",
    "y = df['shear'].values\n",
    "X = df['age'].values\n",
    "X = sm.add_constant(X)  # Adds intercept term\n",
    "\n",
    "def stochastic_gradient_descent(X, y, learning_rate=0.001, n_iterations=100000):\n",
    "    m = len(y)\n",
    "    theta = np.array([3000, -0.1]) \n",
    "\n",
    "    for iteration in range(n_iterations):\n",
    "        random_index = np.random.randint(m)\n",
    "        xi = X[random_index:random_index+1]  \n",
    "        yi = y[random_index:random_index+1]  \n",
    "        \n",
    "        gradients = 2 * xi.T.dot(xi.dot(theta) - yi)\n",
    "        theta -= learning_rate * gradients.flatten() \n",
    "    return theta\n",
    "\n",
    "theta_sgd = stochastic_gradient_descent(X, y)\n",
    "print(\"\\nStochastic Gradient Descent:\")\n",
    "print(f\"Intercept: {theta_sgd[0]:.4f}, Slope: {theta_sgd[1]:.4f}\")\n",
    "\n",
    "# Train-test split\n",
    "X_train, X_test, y_train, y_test = train_test_split(X, y, test_size=0.2, random_state=42)\n",
    "\n",
    "sgd_reg = SGDRegressor(max_iter=1000, tol=1e-3)\n",
    "sgd_reg.fit(X_train[:, 1].reshape(-1, 1), y_train)  # Use only 'age' column without constant term for sklearn\n",
    "\n",
    "# Prepare x_values for prediction with only the feature (age), no constant needed here\n",
    "x_values = np.linspace(0, 25, 100).reshape(-1, 1)\n",
    "y_pred = sgd_reg.predict(x_values)\n",
    "\n",
    "print(\"Predictions: \", y_pred)\n"
   ]
  }
 ],
 "metadata": {
  "kernelspec": {
   "display_name": "Python 3 (ipykernel)",
   "language": "python",
   "name": "python3"
  },
  "language_info": {
   "codemirror_mode": {
    "name": "ipython",
    "version": 3
   },
   "file_extension": ".py",
   "mimetype": "text/x-python",
   "name": "python",
   "nbconvert_exporter": "python",
   "pygments_lexer": "ipython3",
   "version": "3.11.3"
  }
 },
 "nbformat": 4,
 "nbformat_minor": 5
}
